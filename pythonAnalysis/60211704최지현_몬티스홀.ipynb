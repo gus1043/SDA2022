{
 "cells": [
  {
   "cell_type": "code",
   "execution_count": 23,
   "metadata": {},
   "outputs": [
    {
     "name": "stdout",
     "output_type": "stream",
     "text": [
      "3293 6707\n"
     ]
    }
   ],
   "source": [
    "import random\n",
    "stay=0\n",
    "change=0\n",
    "\n",
    "for i in range(10000):\n",
    "    doors = [1,0,0] #1은 자동차, 0은 염소\n",
    "    random.shuffle(doors)\n",
    "    choicenum = int(random.random()*3)\n",
    "    firstChoice = doors[choicenum] \n",
    "\n",
    "    del(doors[choicenum]) \n",
    "\n",
    "    if(doors[0]==1):\n",
    "        del(doors[1])\n",
    "    elif (doors[1]==1):\n",
    "        del(doors[0])\n",
    "    else:\n",
    "        del(doors[int(random.random()*2)])\n",
    "\n",
    "    stay+=firstChoice #1이 더해지면서 바꾸지 않았을때 당첨 횟수가 누적됨\n",
    "    change+=doors[0] #바꿨을때 당첨횟수가 누적됨 \n",
    "\n",
    "print(stay, change)"
   ]
  }
 ],
 "metadata": {
  "kernelspec": {
   "display_name": "Python 3",
   "language": "python",
   "name": "python3"
  },
  "language_info": {
   "codemirror_mode": {
    "name": "ipython",
    "version": 3
   },
   "file_extension": ".py",
   "mimetype": "text/x-python",
   "name": "python",
   "nbconvert_exporter": "python",
   "pygments_lexer": "ipython3",
   "version": "3.8.5"
  }
 },
 "nbformat": 4,
 "nbformat_minor": 4
}
