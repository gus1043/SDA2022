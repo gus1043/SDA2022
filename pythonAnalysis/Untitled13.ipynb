{
 "cells": [
  {
   "cell_type": "code",
   "execution_count": 17,
   "metadata": {},
   "outputs": [
    {
     "data": {
      "text/plain": [
       "0.7973757891340137"
      ]
     },
     "execution_count": 17,
     "metadata": {},
     "output_type": "execute_result"
    }
   ],
   "source": [
    "from scipy import stats\n",
    "data=[180.86, 196.64,175.44,914.37,188.55,203.56]\n",
    "tstat, pval = stats.ttest_1samp(data, popmean=200, alternative='less')\n",
    "pval"
   ]
  },
  {
   "cell_type": "code",
   "execution_count": 6,
   "metadata": {},
   "outputs": [
    {
     "name": "stdout",
     "output_type": "stream",
     "text": [
      "ShapiroResult(statistic=0.978791356086731, pvalue=0.9453943967819214)\n",
      "ShapiroResult(statistic=0.9843409061431885, pvalue=0.9709899425506592)\n"
     ]
    }
   ],
   "source": [
    "before=[42.9,51.8,71.7,51.6,63.5,58.8]\n",
    "after=[44.6,54.0,72.3,53.4,63.8,59.3]\n",
    "from scipy.stats import shapiro\n",
    "print(shapiro(before))\n",
    "print(shapiro(after))"
   ]
  },
  {
   "cell_type": "code",
   "execution_count": 8,
   "metadata": {},
   "outputs": [
    {
     "data": {
      "text/plain": [
       "0.01578909183804184"
      ]
     },
     "execution_count": 8,
     "metadata": {},
     "output_type": "execute_result"
    }
   ],
   "source": [
    "tstat,pval=stats.ttest_rel(before, after, alternative='two-sided')\n",
    "pval"
   ]
  },
  {
   "cell_type": "code",
   "execution_count": 13,
   "metadata": {},
   "outputs": [
    {
     "name": "stdout",
     "output_type": "stream",
     "text": [
      "8.458886513185156 0.014560494751687737\n",
      "2\n",
      "[[54.08 49.92]\n",
      " [35.36 32.64]\n",
      " [14.56 13.44]]\n"
     ]
    }
   ],
   "source": [
    "from scipy.stats import chi2_contingency\n",
    "import numpy as np\n",
    "observed=np.array([[64,40],[30,38],[10,18]])\n",
    "chi2, p, dof, ex=chi2_contingency(observed, correction=False)\n",
    "print(chi2,p)\n",
    "print(dof)\n",
    "print(ex)"
   ]
  },
  {
   "cell_type": "code",
   "execution_count": 15,
   "metadata": {},
   "outputs": [
    {
     "name": "stdout",
     "output_type": "stream",
     "text": [
      "0.08432241955861941\n"
     ]
    }
   ],
   "source": [
    "from scipy.stats import f_oneway\n",
    "high=[1.30,1.15,0.50,0.30,1.30]\n",
    "low=[1.78,1.25,1.27,0.55,0.80]\n",
    "control=[2.67,2.25,1.46,1.66,0.80]\n",
    "_,pval=stats.f_oneway(high,low,control)\n",
    "print(pval)"
   ]
  },
  {
   "cell_type": "code",
   "execution_count": null,
   "metadata": {},
   "outputs": [],
   "source": []
  }
 ],
 "metadata": {
  "kernelspec": {
   "display_name": "Python 3",
   "language": "python",
   "name": "python3"
  },
  "language_info": {
   "codemirror_mode": {
    "name": "ipython",
    "version": 3
   },
   "file_extension": ".py",
   "mimetype": "text/x-python",
   "name": "python",
   "nbconvert_exporter": "python",
   "pygments_lexer": "ipython3",
   "version": "3.8.5"
  }
 },
 "nbformat": 4,
 "nbformat_minor": 4
}
