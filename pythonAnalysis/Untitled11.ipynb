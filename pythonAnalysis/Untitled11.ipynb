{
 "cells": [
  {
   "cell_type": "code",
   "execution_count": 1,
   "metadata": {},
   "outputs": [
    {
     "name": "stdout",
     "output_type": "stream",
     "text": [
      "1.6448536269514729\n"
     ]
    },
    {
     "data": {
      "text/plain": [
       "<seaborn.axisgrid.FacetGrid at 0x137bfc5fe20>"
      ]
     },
     "execution_count": 1,
     "metadata": {},
     "output_type": "execute_result"
    },
    {
     "data": {
      "image/png": "[encoded data removed]",
      "text/plain": [
       "<Figure size 360x360 with 1 Axes>"
      ]
     },
     "metadata": {
      "needs_background": "light"
     },
     "output_type": "display_data"
    }
   ],
   "source": [
    "from scipy.stats import norm\n",
    "import numpy as np\n",
    "import seaborn as sns\n",
    "from statsmodels.stats.multitest import multipletests\n",
    "rand_num=norm.rvs(loc=0, scale=1, size=500) #500번 테스트\n",
    "print(norm.isf(0.05))\n",
    "sns.displot(rand_num)"
   ]
  },
  {
   "cell_type": "code",
   "execution_count": 2,
   "metadata": {},
   "outputs": [
    {
     "name": "stdout",
     "output_type": "stream",
     "text": [
      "[0.24398826 0.60661161 0.92349555 0.1770067  0.28557613 0.56418885\n",
      " 0.01800255 0.71015133 0.89447725 0.00573547]\n",
      "27\n"
     ]
    }
   ],
   "source": [
    "pval=1-norm.cdf(rand_num)\n",
    "print(pval[:10])\n",
    "print(len(pval[np.where(pval<0.05)]))"
   ]
  },
  {
   "cell_type": "code",
   "execution_count": 4,
   "metadata": {},
   "outputs": [
    {
     "name": "stdout",
     "output_type": "stream",
     "text": [
      "[False False False False False False False False False False]\n",
      "[1. 1. 1. 1. 1. 1. 1. 1. 1. 1.]\n",
      "0\n"
     ]
    }
   ],
   "source": [
    "y_born = multipletests(pvals=pval, alpha=0.05, method=\"bonferroni\")\n",
    "print(y_born[0][:10])\n",
    "print(y_born[1][:10])\n",
    "print(len(y_born[1][np.where(y_born[1]<0.05)]))"
   ]
  },
  {
   "cell_type": "code",
   "execution_count": null,
   "metadata": {},
   "outputs": [],
   "source": []
  }
 ],
 "metadata": {
  "kernelspec": {
   "display_name": "Python 3",
   "language": "python",
   "name": "python3"
  },
  "language_info": {
   "codemirror_mode": {
    "name": "ipython",
    "version": 3
   },
   "file_extension": ".py",
   "mimetype": "text/x-python",
   "name": "python",
   "nbconvert_exporter": "python",
   "pygments_lexer": "ipython3",
   "version": "3.8.5"
  }
 },
 "nbformat": 4,
 "nbformat_minor": 4
}
