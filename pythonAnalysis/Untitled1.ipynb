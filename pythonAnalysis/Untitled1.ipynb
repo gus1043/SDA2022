{
 "cells": [
  {
   "cell_type": "code",
   "execution_count": null,
   "metadata": {},
   "outputs": [],
   "source": [
    "import pandas as pd\n",
    "data=pd.read_csv('ds_salaries.csv', index_col=0)\n",
    "data_short = data[:20][[\"work_year\",\"salary\",\"salary_in_usd\",\"remote_ratio\",\"company_size\"]]\n",
    "data_short"
   ]
  },
  {
   "cell_type": "code",
   "execution_count": null,
   "metadata": {},
   "outputs": [],
   "source": []
  }
 ],
 "metadata": {
  "kernelspec": {
   "display_name": "SDAWeek1",
   "language": "python",
   "name": "sdaweek1env"
  }
 },
 "nbformat": 4,
 "nbformat_minor": 4
}
